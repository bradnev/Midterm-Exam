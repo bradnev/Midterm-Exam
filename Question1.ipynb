{
 "cells": [
  {
   "cell_type": "code",
   "execution_count": 9,
   "metadata": {},
   "outputs": [],
   "source": [
    "class Point:\n",
    "    'class to construct point'\n",
    "    \n",
    "    def __init__(self, x=0, y=0):\n",
    "        'initialize point pairs'\n",
    "        self.x=x\n",
    "        self.y=y\n",
    "        \n",
    "    def get(self):\n",
    "        return(self.x, self.y)\n",
    "    \n",
    "    def __repr__(self):\n",
    "        return 'Point({},{})'.format(self.x,self.y)\n",
    " \n",
    "    def __add__(self, point):\n",
    "        return Point(self.x+point.x, self.y+point.y)    \n",
    " \n",
    "    def __sub__(self, point):\n",
    "        return Point(self.x-point.x, self.y-point.y)\n",
    "    \n",
    "class Segment:\n",
    "    def __init__(self, p1=Point(0,0), p2=Point(0,0)):\n",
    "        self.p1=p1\n",
    "        self.p2=p2\n",
    "        \n",
    "    def get(self):\n",
    "        return(self.p1, self.p2)\n",
    "    \n",
    "    def __repr__(self):\n",
    "        return 'Segment({},{})'.format(self.p1, self.p2)\n",
    "    \n",
    "    def length(self):\n",
    "        return (((self.p1-self.p2).x)**2 + ((self.p1-self.p2).y)**2)**(1/2)\n",
    "    \n",
    "    def slope(self):\n",
    "        if self.p1.x == self.p2.x:\n",
    "            if self.p1.y == self.p2.y:\n",
    "                return(\"None\")\n",
    "            else:\n",
    "                return(\"Infinity\")\n",
    "        else:\n",
    "            return (self.p1-self.p2).y / (self.p1-self.p2).x #The slope formula in the test is incorrect!  It should be deltay/deltax!"
   ]
  },
  {
   "cell_type": "code",
   "execution_count": 11,
   "metadata": {},
   "outputs": [
    {
     "name": "stdout",
     "output_type": "stream",
     "text": [
      "5.0\n",
      "1.3333333333333333\n"
     ]
    }
   ],
   "source": [
    "p1 = Point(3,4)\n",
    "p2 = Point(0,0)\n",
    "s = Segment(p1,p2)\n",
    "print(s.length())\n",
    "print(s.slope())"
   ]
  },
  {
   "cell_type": "code",
   "execution_count": null,
   "metadata": {},
   "outputs": [],
   "source": [
    "#I have been locked out of my github account for reasons I do not understand.\n",
    "#Therefore, I am using my previous university github."
   ]
  }
 ],
 "metadata": {
  "kernelspec": {
   "display_name": "Python 3",
   "language": "python",
   "name": "python3"
  },
  "language_info": {
   "codemirror_mode": {
    "name": "ipython",
    "version": 3
   },
   "file_extension": ".py",
   "mimetype": "text/x-python",
   "name": "python",
   "nbconvert_exporter": "python",
   "pygments_lexer": "ipython3",
   "version": "3.8.5"
  }
 },
 "nbformat": 4,
 "nbformat_minor": 4
}

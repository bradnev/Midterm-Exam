{
 "cells": [
  {
   "cell_type": "code",
   "execution_count": 24,
   "metadata": {},
   "outputs": [
    {
     "name": "stdout",
     "output_type": "stream",
     "text": [
      "*\n",
      "**\n",
      " *\n",
      "****\n",
      "  *\n",
      "  **\n",
      "   *\n"
     ]
    }
   ],
   "source": [
    "def tough(a,b): #I honestly dont even understand the pattern...it makes no sense.\n",
    "    if b != 0:\n",
    "        if b==1:\n",
    "            k = \"\"\n",
    "            for i in range(0,a):\n",
    "                k=k+' '\n",
    "            k=k+'*'\n",
    "            print(k)\n",
    "        else:\n",
    "            tough(a,int(b/2))\n",
    "            k = \"\"\n",
    "            for i in range(0,a):\n",
    "                k=k+' '\n",
    "            for j in range(0,b):\n",
    "                k=k+'*'\n",
    "            print(k)\n",
    "            tough(int(a + b/2),int(b/2))\n",
    "\n",
    "tough(0,4) #oh my god it works"
   ]
  }
 ],
 "metadata": {
  "kernelspec": {
   "display_name": "Python 3",
   "language": "python",
   "name": "python3"
  },
  "language_info": {
   "codemirror_mode": {
    "name": "ipython",
    "version": 3
   },
   "file_extension": ".py",
   "mimetype": "text/x-python",
   "name": "python",
   "nbconvert_exporter": "python",
   "pygments_lexer": "ipython3",
   "version": "3.8.5"
  }
 },
 "nbformat": 4,
 "nbformat_minor": 4
}

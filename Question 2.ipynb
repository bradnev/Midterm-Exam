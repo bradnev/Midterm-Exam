{
 "cells": [
  {
   "cell_type": "code",
   "execution_count": 2,
   "metadata": {},
   "outputs": [],
   "source": [
    "#I am unable to load the %%sql cell magic, therefore I would just have to explain *how* an SQL code would work :(\n",
    "#I have ipython-sql installed, but jupyter is consistently unable to register it.  what is going on.\n",
    "#Even notebook6 simply does not load properly.\n",
    "#%%sql\n",
    "#SELECT * FROM weather\n",
    "#SELECT recordDate, temperature FROM weather WHERE temperature > temperature[:-1]\n",
    "#\n",
    "#i think.\n",
    "#SQL literally does not work on my computer despite all my efforts - i will just do it in python."
   ]
  },
  {
   "cell_type": "code",
   "execution_count": 3,
   "metadata": {},
   "outputs": [
    {
     "name": "stdout",
     "output_type": "stream",
     "text": [
      "Requirement already satisfied: ipython-sql in c:\\users\\brad\\anaconda3\\lib\\site-packages (0.5.0)\n",
      "Requirement already satisfied: ipython-genutils in c:\\users\\brad\\anaconda3\\lib\\site-packages (from ipython-sql) (0.2.0)\n",
      "Requirement already satisfied: six in c:\\users\\brad\\anaconda3\\lib\\site-packages (from ipython-sql) (1.15.0)\n",
      "Requirement already satisfied: sqlalchemy>=2.0 in c:\\users\\brad\\anaconda3\\lib\\site-packages (from ipython-sql) (2.0.22)\n",
      "Requirement already satisfied: sqlparse in c:\\users\\brad\\anaconda3\\lib\\site-packages (from ipython-sql) (0.4.4)\n",
      "Requirement already satisfied: ipython in c:\\users\\brad\\anaconda3\\lib\\site-packages (from ipython-sql) (7.19.0)\n",
      "Requirement already satisfied: prettytable in c:\\users\\brad\\anaconda3\\lib\\site-packages (from ipython-sql) (3.9.0)\n",
      "Requirement already satisfied: typing-extensions>=4.2.0 in c:\\users\\brad\\anaconda3\\lib\\site-packages (from sqlalchemy>=2.0->ipython-sql) (4.8.0)\n",
      "Requirement already satisfied: greenlet!=0.4.17; platform_machine == \"aarch64\" or (platform_machine == \"ppc64le\" or (platform_machine == \"x86_64\" or (platform_machine == \"amd64\" or (platform_machine == \"AMD64\" or (platform_machine == \"win32\" or platform_machine == \"WIN32\"))))) in c:\\users\\brad\\anaconda3\\lib\\site-packages (from sqlalchemy>=2.0->ipython-sql) (3.0.1)\n",
      "Requirement already satisfied: decorator in c:\\users\\brad\\anaconda3\\lib\\site-packages (from ipython->ipython-sql) (4.4.2)\n",
      "Requirement already satisfied: prompt-toolkit!=3.0.0,!=3.0.1,<3.1.0,>=2.0.0 in c:\\users\\brad\\anaconda3\\lib\\site-packages (from ipython->ipython-sql) (3.0.8)\n",
      "Requirement already satisfied: backcall in c:\\users\\brad\\anaconda3\\lib\\site-packages (from ipython->ipython-sql) (0.2.0)\n",
      "Requirement already satisfied: pickleshare in c:\\users\\brad\\anaconda3\\lib\\site-packages (from ipython->ipython-sql) (0.7.5)\n",
      "Requirement already satisfied: setuptools>=18.5 in c:\\users\\brad\\anaconda3\\lib\\site-packages (from ipython->ipython-sql) (50.3.1.post20201107)\n",
      "Requirement already satisfied: traitlets>=4.2 in c:\\users\\brad\\anaconda3\\lib\\site-packages (from ipython->ipython-sql) (5.0.5)\n",
      "Requirement already satisfied: pygments in c:\\users\\brad\\anaconda3\\lib\\site-packages (from ipython->ipython-sql) (2.7.2)\n",
      "Requirement already satisfied: colorama; sys_platform == \"win32\" in c:\\users\\brad\\anaconda3\\lib\\site-packages (from ipython->ipython-sql) (0.4.4)\n",
      "Requirement already satisfied: jedi>=0.10 in c:\\users\\brad\\anaconda3\\lib\\site-packages (from ipython->ipython-sql) (0.17.1)\n",
      "Requirement already satisfied: wcwidth in c:\\users\\brad\\anaconda3\\lib\\site-packages (from prettytable->ipython-sql) (0.2.5)\n",
      "Requirement already satisfied: parso<0.8.0,>=0.7.0 in c:\\users\\brad\\anaconda3\\lib\\site-packages (from jedi>=0.10->ipython->ipython-sql) (0.7.0)\n"
     ]
    }
   ],
   "source": [
    "!pip install ipython-sql"
   ]
  },
  {
   "cell_type": "code",
   "execution_count": 29,
   "metadata": {},
   "outputs": [
    {
     "data": {
      "text/plain": [
       "[2, 4]"
      ]
     },
     "execution_count": 29,
     "metadata": {},
     "output_type": "execute_result"
    }
   ],
   "source": [
    "#Since we are to use both SQL and python, and SQL simply does not work, I will at least use python.  At least it works. :()\n",
    "\n",
    "table = [[1,2,3,4],[\"2015-01-01\",\"2015-01-02\",\"2015-01-03\",\"2015-01-04\"],[10,25,20,30]]\n",
    "k = []\n",
    "for i in range(0,4):\n",
    "    if table[2][i] > table[2][i-1]:\n",
    "        k.append(table[0][i])\n",
    "k"
   ]
  }
 ],
 "metadata": {
  "kernelspec": {
   "display_name": "Python 3",
   "language": "python",
   "name": "python3"
  },
  "language_info": {
   "codemirror_mode": {
    "name": "ipython",
    "version": 3
   },
   "file_extension": ".py",
   "mimetype": "text/x-python",
   "name": "python",
   "nbconvert_exporter": "python",
   "pygments_lexer": "ipython3",
   "version": "3.8.5"
  }
 },
 "nbformat": 4,
 "nbformat_minor": 4
}
